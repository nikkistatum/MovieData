{
 "cells": [
  {
   "cell_type": "code",
   "execution_count": 53,
   "metadata": {},
   "outputs": [],
   "source": [
    "from bs4 import BeautifulSoup as bs\n",
    "from splinter import Browser\n",
    "import pandas as pd\n",
    "import requests, time\n",
    "from selenium import webdriver\n",
    "from pymongo import MongoClient\n"
   ]
  },
  {
   "cell_type": "code",
   "execution_count": 54,
   "metadata": {},
   "outputs": [],
   "source": [
    "#set up splinter browser\n",
    "executable_path = {'executable_path': 'chromedriver.exe'}\n",
    "browser = Browser('chrome', **executable_path, headless = False)"
   ]
  },
  {
   "cell_type": "code",
   "execution_count": 55,
   "metadata": {},
   "outputs": [],
   "source": [
    "url = \"https://www.macys.com/?cm_sp=navigation-_-top_nav-_-macys_icon\"\n",
    "browser.visit(url)\n",
    "\n",
    "html = browser.html\n",
    "soup = bs(html, \"html.parser\")\n"
   ]
  },
  {
   "cell_type": "code",
   "execution_count": 56,
   "metadata": {},
   "outputs": [],
   "source": [
    "db_client = MongoClient('localhost',27017)\n",
    "db = db_client['scrape_data'] \n",
    "collection = db['Data_Collection']\n"
   ]
  },
  {
   "cell_type": "code",
   "execution_count": 57,
   "metadata": {},
   "outputs": [],
   "source": [
    "response = webdriver.Chrome() \n",
    "response.get(url)\n",
    "response.maximize_window()"
   ]
  },
  {
   "cell_type": "code",
   "execution_count": 58,
   "metadata": {},
   "outputs": [],
   "source": [
    "\n",
    "pop_up_close_button = response.find_elements_by_xpath('//div[@id=\"tinybox\"]//a[@id=\"closeButton\"]')\n",
    "if pop_up_close_button:\n",
    "    try:\n",
    "        pop_up_close_button[0].click()\n",
    "        sleep(1)\n",
    "    except:\n",
    "        pass"
   ]
  },
  {
   "cell_type": "code",
   "execution_count": 59,
   "metadata": {},
   "outputs": [],
   "source": [
    "home_department_link = response.find_elements_by_xpath('//div[@id=\"mainNavigation\"]/ul/li/a[contains(text(),\"HOME\")]')\n",
    "if home_department_link:\n",
    "    home_department_link[0].click()\n",
    "    sleep(5)"
   ]
  },
  {
   "cell_type": "code",
   "execution_count": 60,
   "metadata": {},
   "outputs": [],
   "source": [
    "home_decor_link = response.find_elements_by_xpath('//div[@id=\"localNavigationContainer\"]//ul[@id=\"firstNavSubCat\"]/li//a[contains(text(),\"Home Decor\")]')\n",
    "if home_decor_link:\n",
    "    home_decor_link[0].click()\n",
    "    sleep(5)"
   ]
  },
  {
   "cell_type": "code",
   "execution_count": 61,
   "metadata": {},
   "outputs": [],
   "source": [
    "#going to each pages using the next page button and collecting all the data\n",
    "next_page = response.find_elements_by_xpath('//div[@id=\"filters\"]//a[@class=\"arrowRight arrowButton paginationSpacer\"]')\n",
    "while next_page:\n",
    "#converting the source code into an object for effectively parsing all the html content\n",
    "\tparser = etree.HTML(response.page_source)\n",
    "\n",
    "\t#collecting all the products into a list and going through each one to collect name and price\n",
    "\tall_products_listed =  parser.xpath('//div[@id=\"macysGlobalLayout\"]//ul[@id=\"thumbnails\"]/li[@class=\"productThumbnail borderless\"]')\n",
    "\tfor product in all_products_listed:\n",
    "\t\tname = product.xpath('.//div[@class=\"shortDescription\"]//a[@class=\"productThumbnailLink \"]/text()')\n",
    "\t\tprice = product.xpath('.//div[@class=\"prices\"]//span[@class=\"first-range \"]/text()')\n",
    "\t\tname = ''.join(name).strip()\n",
    "\t\tprice = ''.join(price).strip().replace('$','')\n",
    "\t\tscrapeDate = datetime.today().strftime('%Y-%m-%d')\n",
    "\t\tdata = {\"Product_Name\":name,\"Price\":price,\"ScrapeDate\":scrapeDate}\n",
    "\t\tif name:\n",
    "\t\t\t#inserting data into the mongodb collections, one at a time\n",
    "\t\t\tinsert_data = collection.insert_one(data).inserted_id\n",
    "\t\telse:\n",
    "\t\t\tprint(\"data is not a valid one\")\n",
    "\t#checking if there is a next page exist or not. if there  is one then going to that page by clicking the next button\t\t\n",
    "\tnext_page = response.find_elements_by_xpath('//div[@id=\"filters\"]//a[@class=\"arrowRight arrowButton paginationSpacer\"]')\n",
    "\tif next_page:\n",
    "\t\tnext_page[0].click()\n",
    "\t\tsleep(5)"
   ]
  },
  {
   "cell_type": "code",
   "execution_count": 62,
   "metadata": {},
   "outputs": [],
   "source": [
    "db_client.close()\n",
    "#clocing the browser window\n",
    "response.close()\n",
    "\n"
   ]
  },
  {
   "cell_type": "code",
   "execution_count": 65,
   "metadata": {},
   "outputs": [
    {
     "name": "stdout",
     "output_type": "stream",
     "text": [
      "MongoClient(host=['localhost:27017'], document_class=dict, tz_aware=False, connect=True)\n"
     ]
    }
   ],
   "source": [
    "print(db_client)"
   ]
  },
  {
   "cell_type": "code",
   "execution_count": null,
   "metadata": {},
   "outputs": [],
   "source": []
  }
 ],
 "metadata": {
  "kernelspec": {
   "display_name": "Python 3",
   "language": "python",
   "name": "python3"
  },
  "language_info": {
   "codemirror_mode": {
    "name": "ipython",
    "version": 3
   },
   "file_extension": ".py",
   "mimetype": "text/x-python",
   "name": "python",
   "nbconvert_exporter": "python",
   "pygments_lexer": "ipython3",
   "version": "3.6.8"
  }
 },
 "nbformat": 4,
 "nbformat_minor": 2
}
